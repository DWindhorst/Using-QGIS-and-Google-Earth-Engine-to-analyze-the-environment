{
 "cells": [
  {
   "cell_type": "markdown",
   "id": "07c4e756",
   "metadata": {},
   "source": [
    "# Preparation to work with Google Earth Engine\n",
    "\n",
    "After we learned the basics of QGIS in the first part of the course, it is now time to introduce Google Earth Engine and how to connect it with QGIS. First, lets take a look at [what the Google Earth Engine (GEE) even does](https://youtu.be/5fQn_CMPwfU).\n",
    "\n",
    "Basically, it is a tool that allows you to skip the harder parts of remote sensing, like extracting and cleaning remote sensing date and go directly to the science part. In addition, it allows us to run highly complex simulations directly on the Google servers. This makes spatial analysis much quicker, as they provided a lot more computing power than your personal computer. \n",
    "\n",
    "To get it to work with QGIS, you will need to get an GEE account and learn to download and manipulate the spatial data. But we will go through this step by step. "
   ]
  },
  {
   "cell_type": "markdown",
   "id": "cc24e5b6",
   "metadata": {},
   "source": [
    "## Taking a look at the Google Earth Engine\n",
    "Let's take a first look at [Google Earth Engine](https://earthengine.google.com/) and [listen to a first overview](https://youtu.be/uHtehTSw7vg). As stated in the video, you need a google account to be able to use GEE. Again, feel free to enter fake data to create one (if you not already have one). Make sure you do this as soon as possible, as it can sometimes take some days until your account is ready to be used. \n",
    "\n",
    "To be able to use Google Earth Engine we need to use either Python or Javascript. Don't worry if you do not yet know how to program in those languages. I'll provide you with the neccesary steps to get started. We'll be using Python via [Google Collab](https://colab.research.google.com/?utm_source=scs-index), as this will allows us greater flexebility and reusability. However, it does not hurt, if you also take a quick look at [Javascript](https://youtu.be/c-I5S_zTwAc).\n",
    "\n",
    "One really nice tool to get a quick overview of the things you want to analyse is the [Earth Engine Timelapse](https://youtu.be/kIYHGkSb-fU). This allows you to see how landscapes have evolved over time. \n",
    "\n",
    "GEE also has a [vast and well written documentation](https://developers.google.com/earth-engine/), which allows you to look things up on your own if you are stuck. \n",
    "\n",
    "GEE has a [wide array of different data sets](https://youtu.be/aAzdbhNK_pE), all of which are contionously updated. This way you can be sure that you are always working on the most up to date data when using GEE. There is also a [data catalog](https://developers.google.com/earth-engine/datasets/catalog), which allows you to browse through all available datasets. "
   ]
  },
  {
   "cell_type": "markdown",
   "id": "bedc32eb",
   "metadata": {},
   "source": [
    "## Exercise 1\n",
    "Find the place where you were born in Google Earth Engine and [run the timelapse](https://earthengine.google.com/timelapse/). What changes do you see?"
   ]
  }
 ],
 "metadata": {
  "kernelspec": {
   "display_name": "Python 3 (ipykernel)",
   "language": "python",
   "name": "python3"
  },
  "language_info": {
   "codemirror_mode": {
    "name": "ipython",
    "version": 3
   },
   "file_extension": ".py",
   "mimetype": "text/x-python",
   "name": "python",
   "nbconvert_exporter": "python",
   "pygments_lexer": "ipython3",
   "version": "3.9.7"
  }
 },
 "nbformat": 4,
 "nbformat_minor": 5
}
