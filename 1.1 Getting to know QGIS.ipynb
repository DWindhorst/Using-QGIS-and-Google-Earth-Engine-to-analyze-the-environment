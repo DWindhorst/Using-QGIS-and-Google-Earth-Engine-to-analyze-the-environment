{
 "cells": [
  {
   "cell_type": "markdown",
   "id": "c1d81083",
   "metadata": {},
   "source": [
    "# Getting to know QGIS\n",
    "This course is meant to give you an overview of the functionality of QGIS and how you can use it to do a meaningful land use analysis in combination with Google Earth Engine. \n",
    "\n",
    "## General Information about the Course\n",
    "\n",
    "* If you have the impression that something is off, wrong or super boring, please tell me, so I can make it better next time.\n",
    "\n",
    "* This course is self-paced. There are deadlines for some of the exercises, but apart from that each group can work on it in their own speed. \n",
    "\n",
    "* Some videos I linked here will have a defined starting time. This is intentional, as I think the parts of the video before the starting time have already been covered elsewhere or are not important.\n",
    "\n",
    "* Sometimes the topics of different videos will overlap. I could not really avoid this as I did not make them myself. However, you can also see this as a chance to review things you already heard.\n",
    "\n",
    "* YouTube allows you to watch videos faster! Very useful if you have the impression that someone in the video talks way too slow."
   ]
  },
  {
   "cell_type": "markdown",
   "id": "771f4c55",
   "metadata": {},
   "source": [
    "## Installing QGIS\n",
    "To work with QGIS, we have to install it first. You can download QGIS [here](https://www.qgis.org/en/site/). Just download it, execute and installer and you are good to go. If you run into problems, check out [the documentation](https://qgis.org/en/site/forusers/alldownloads.html). "
   ]
  },
  {
   "cell_type": "markdown",
   "id": "232708cd",
   "metadata": {},
   "source": [
    "## A first overview\n",
    "QGIS has lots and lots of function to do all kind of wonderful spatial science. However, at the beginning it can be a bit overwhelming. To get you started, take a look at [this video](https://youtu.be/kCnNWyl9qSE). Follow along the instructions in the video, pause if neccesary. It will give you a overview of all the basic functionality of QGIS. Don't worry if it is a bit too fast for you. We will repeat its contents several times over. \n",
    "\n",
    "Things you should have understood from the video:\n",
    "\n",
    "* The QGIS GUI consists of seperate areas. You have your menu, your file explorer, map view and a status bar. \n",
    "\n",
    "* You can navigate QGIS with your mouse. \n",
    "\n",
    "* Projections are important. Deciding on a projection is no arbitrary choice. Take a look at [the true size](https://thetruesize.com) to understand the gigantic effects a projection can have. Projections have an EPSG number, which is a unique identifier for them. \n",
    "\n",
    "* You can always add [Open Street Map](https://www.openstreetmap.org) data to your QGIS.\n",
    "\n",
    "* Your maps in QGIS have several layers, which you can toggle of and on and change the order. \n",
    "\n",
    "* Temporary layers are lost if you close QGIS. \n",
    "\n",
    "* You can create your own polygons, lines and points on your maps. \n",
    "\n",
    "* Geopackage is often a good ideas as a file format. Geopackages can contain several layers at once. E.g. one layer with lines and one layer with polygons. \n",
    "\n",
    "* You can adapt the visualization of all things displayed in your map.\n",
    "\n",
    "* Polygons have a attribute table that contains all information about them. \n",
    "\n",
    "* You can load files directly from the file browser in QGIS. \n",
    "\n",
    "* The style of your polygon can be saved together with the spatial information. \n",
    "\n",
    "* QGIS has an extra layout view, that allows you to style your maps before exporting them. "
   ]
  },
  {
   "cell_type": "markdown",
   "id": "411fe8ab",
   "metadata": {},
   "source": [
    "## Exercise 1\n",
    "Follow the instructions in the video and create your own map. It should contain several polygons and lines with descriptions, a legend, a scale bar and a title. An example:\n",
    "\n",
    "![map](Assets/Notebook_1_1_1.png)\n",
    "\n",
    "Your map does not have to look like this. Just make sure you have all the parts mentioned above. "
   ]
  }
 ],
 "metadata": {
  "kernelspec": {
   "display_name": "Python 3 (ipykernel)",
   "language": "python",
   "name": "python3"
  },
  "language_info": {
   "codemirror_mode": {
    "name": "ipython",
    "version": 3
   },
   "file_extension": ".py",
   "mimetype": "text/x-python",
   "name": "python",
   "nbconvert_exporter": "python",
   "pygments_lexer": "ipython3",
   "version": "3.9.7"
  }
 },
 "nbformat": 4,
 "nbformat_minor": 5
}
